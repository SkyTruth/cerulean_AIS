{
 "cells": [
  {
   "cell_type": "code",
   "execution_count": 1,
   "id": "033b6e27-d4c3-4fc5-9250-3ea2d6a2b461",
   "metadata": {},
   "outputs": [
    {
     "name": "stderr",
     "output_type": "stream",
     "text": [
      "\u001b[1m\u001b[1mINFO    \u001b[0m\u001b[1m\u001b[0m - \u001b[1mThe mmdet config folder already exists. No need to downloaded it. Path : /home/rave/.icevision/mmdetection_configs/mmdetection_configs-2.16.0/configs\u001b[0m | \u001b[36micevision.models.mmdet.download_configs\u001b[0m:\u001b[36mdownload_mmdet_configs\u001b[0m:\u001b[36m17\u001b[0m\n"
     ]
    }
   ],
   "source": [
    "from icevision.all import *\n",
    "from lunular.data import coco"
   ]
  },
  {
   "cell_type": "code",
   "execution_count": 67,
   "id": "dde610c2-4eb6-424b-abd9-91e947c4e6b7",
   "metadata": {},
   "outputs": [
    {
     "data": {
      "text/plain": [
       "\u001b[0;31mType:\u001b[0m        module\n",
       "\u001b[0;31mString form:\u001b[0m <module 'icevision.models' from '/home/rave/miniconda3/envs/icevision/lib/python3.8/site-packages/icevision/models/__init__.py'>\n",
       "\u001b[0;31mFile:\u001b[0m        ~/miniconda3/envs/icevision/lib/python3.8/site-packages/icevision/models/__init__.py\n",
       "\u001b[0;31mSource:\u001b[0m     \n",
       "\u001b[0;32mfrom\u001b[0m \u001b[0micevision\u001b[0m\u001b[0;34m.\u001b[0m\u001b[0mmodels\u001b[0m\u001b[0;34m.\u001b[0m\u001b[0mutils\u001b[0m \u001b[0;32mimport\u001b[0m \u001b[0;34m*\u001b[0m\u001b[0;34m\u001b[0m\n",
       "\u001b[0;34m\u001b[0m\u001b[0;32mfrom\u001b[0m \u001b[0micevision\u001b[0m\u001b[0;34m.\u001b[0m\u001b[0mmodels\u001b[0m\u001b[0;34m.\u001b[0m\u001b[0minterpretation\u001b[0m \u001b[0;32mimport\u001b[0m \u001b[0;34m*\u001b[0m\u001b[0;34m\u001b[0m\n",
       "\u001b[0;34m\u001b[0m\u001b[0;34m\u001b[0m\n",
       "\u001b[0;34m\u001b[0m\u001b[0;32mfrom\u001b[0m \u001b[0micevision\u001b[0m\u001b[0;34m.\u001b[0m\u001b[0mmodels\u001b[0m \u001b[0;32mimport\u001b[0m \u001b[0mtorchvision\u001b[0m\u001b[0;34m\u001b[0m\n",
       "\u001b[0;34m\u001b[0m\u001b[0;34m\u001b[0m\n",
       "\u001b[0;34m\u001b[0m\u001b[0;31m# Soft dependencies\u001b[0m\u001b[0;34m\u001b[0m\n",
       "\u001b[0;34m\u001b[0m\u001b[0;32mfrom\u001b[0m \u001b[0micevision\u001b[0m\u001b[0;34m.\u001b[0m\u001b[0msoft_dependencies\u001b[0m \u001b[0;32mimport\u001b[0m \u001b[0mSoftDependencies\u001b[0m\u001b[0;34m,\u001b[0m \u001b[0m_SoftDependencies\u001b[0m\u001b[0;34m\u001b[0m\n",
       "\u001b[0;34m\u001b[0m\u001b[0;34m\u001b[0m\n",
       "\u001b[0;34m\u001b[0m\u001b[0;32mif\u001b[0m \u001b[0mSoftDependencies\u001b[0m\u001b[0;34m.\u001b[0m\u001b[0meffdet\u001b[0m\u001b[0;34m:\u001b[0m\u001b[0;34m\u001b[0m\n",
       "\u001b[0;34m\u001b[0m    \u001b[0;31m# backwards compatibility\u001b[0m\u001b[0;34m\u001b[0m\n",
       "\u001b[0;34m\u001b[0m    \u001b[0;32mfrom\u001b[0m \u001b[0micevision\u001b[0m\u001b[0;34m.\u001b[0m\u001b[0mmodels\u001b[0m\u001b[0;34m.\u001b[0m\u001b[0mross\u001b[0m \u001b[0;32mimport\u001b[0m \u001b[0mefficientdet\u001b[0m\u001b[0;34m\u001b[0m\n",
       "\u001b[0;34m\u001b[0m    \u001b[0;32mfrom\u001b[0m \u001b[0micevision\u001b[0m\u001b[0;34m.\u001b[0m\u001b[0mmodels\u001b[0m \u001b[0;32mimport\u001b[0m \u001b[0mross\u001b[0m\u001b[0;34m\u001b[0m\n",
       "\u001b[0;34m\u001b[0m\u001b[0;34m\u001b[0m\n",
       "\u001b[0;34m\u001b[0m\u001b[0;32mif\u001b[0m \u001b[0mSoftDependencies\u001b[0m\u001b[0;34m.\u001b[0m\u001b[0mmmdet\u001b[0m\u001b[0;34m:\u001b[0m\u001b[0;34m\u001b[0m\n",
       "\u001b[0;34m\u001b[0m    \u001b[0;32mfrom\u001b[0m \u001b[0micevision\u001b[0m\u001b[0;34m.\u001b[0m\u001b[0mmodels\u001b[0m \u001b[0;32mimport\u001b[0m \u001b[0mmmdet\u001b[0m\u001b[0;34m\u001b[0m\n",
       "\u001b[0;34m\u001b[0m    \u001b[0;32mfrom\u001b[0m \u001b[0micevision\u001b[0m\u001b[0;34m.\u001b[0m\u001b[0mmodels\u001b[0m\u001b[0;34m.\u001b[0m\u001b[0mcheckpoint\u001b[0m \u001b[0;32mimport\u001b[0m \u001b[0;34m*\u001b[0m\u001b[0;34m\u001b[0m\n",
       "\u001b[0;34m\u001b[0m\u001b[0;34m\u001b[0m\n",
       "\u001b[0;34m\u001b[0m\u001b[0;32mif\u001b[0m \u001b[0mSoftDependencies\u001b[0m\u001b[0;34m.\u001b[0m\u001b[0myolov5\u001b[0m\u001b[0;34m:\u001b[0m\u001b[0;34m\u001b[0m\n",
       "\u001b[0;34m\u001b[0m    \u001b[0;31m# HACK: yolov5 changes matplotlib backend here: https://github.com/ultralytics/yolov5/blob/77415a42e5975ea356393c9f1d5cff0ae8acae2c/utils/plots.py#L26\u001b[0m\u001b[0;34m\u001b[0m\n",
       "\u001b[0;34m\u001b[0m    \u001b[0;32mimport\u001b[0m \u001b[0mmatplotlib\u001b[0m\u001b[0;34m\u001b[0m\n",
       "\u001b[0;34m\u001b[0m\u001b[0;34m\u001b[0m\n",
       "\u001b[0;34m\u001b[0m    \u001b[0mbackend\u001b[0m \u001b[0;34m=\u001b[0m \u001b[0mmatplotlib\u001b[0m\u001b[0;34m.\u001b[0m\u001b[0mget_backend\u001b[0m\u001b[0;34m(\u001b[0m\u001b[0;34m)\u001b[0m\u001b[0;34m\u001b[0m\n",
       "\u001b[0;34m\u001b[0m    \u001b[0;32mfrom\u001b[0m \u001b[0micevision\u001b[0m\u001b[0;34m.\u001b[0m\u001b[0mmodels\u001b[0m \u001b[0;32mimport\u001b[0m \u001b[0multralytics\u001b[0m\u001b[0;34m\u001b[0m\n",
       "\u001b[0;34m\u001b[0m\u001b[0;34m\u001b[0m\n",
       "\u001b[0;34m\u001b[0m    \u001b[0mmatplotlib\u001b[0m\u001b[0;34m.\u001b[0m\u001b[0muse\u001b[0m\u001b[0;34m(\u001b[0m\u001b[0mbackend\u001b[0m\u001b[0;34m)\u001b[0m\u001b[0;34m\u001b[0m\n",
       "\u001b[0;34m\u001b[0m    \u001b[0mmatplotlib\u001b[0m\u001b[0;34m.\u001b[0m\u001b[0mrcdefaults\u001b[0m\u001b[0;34m(\u001b[0m\u001b[0;34m)\u001b[0m\u001b[0;34m\u001b[0m\n",
       "\u001b[0;34m\u001b[0m\u001b[0;34m\u001b[0m\n",
       "\u001b[0;34m\u001b[0m\u001b[0;32mif\u001b[0m \u001b[0mSoftDependencies\u001b[0m\u001b[0;34m.\u001b[0m\u001b[0mfastai\u001b[0m\u001b[0;34m:\u001b[0m\u001b[0;34m\u001b[0m\n",
       "\u001b[0;34m\u001b[0m    \u001b[0;32mfrom\u001b[0m \u001b[0micevision\u001b[0m\u001b[0;34m.\u001b[0m\u001b[0mmodels\u001b[0m \u001b[0;32mimport\u001b[0m \u001b[0mfastai\u001b[0m\u001b[0;34m\u001b[0m\u001b[0;34m\u001b[0m\u001b[0m\n"
      ]
     },
     "metadata": {},
     "output_type": "display_data"
    }
   ],
   "source": [
    "models??"
   ]
  },
  {
   "cell_type": "code",
   "execution_count": 69,
   "id": "089839d5-f7ef-4468-b7f7-cc9d0d54391b",
   "metadata": {},
   "outputs": [
    {
     "data": {
      "text/plain": [
       "\u001b[0;31mType:\u001b[0m        module\n",
       "\u001b[0;31mString form:\u001b[0m <module 'icevision.models.torchvision.mask_rcnn.backbones' from '/home/rave/miniconda3/envs/icevision/lib/python3.8/site-packages/icevision/models/torchvision/mask_rcnn/backbones/__init__.py'>\n",
       "\u001b[0;31mFile:\u001b[0m        ~/miniconda3/envs/icevision/lib/python3.8/site-packages/icevision/models/torchvision/mask_rcnn/backbones/__init__.py\n",
       "\u001b[0;31mSource:\u001b[0m      \u001b[0;32mfrom\u001b[0m \u001b[0micevision\u001b[0m\u001b[0;34m.\u001b[0m\u001b[0mmodels\u001b[0m\u001b[0;34m.\u001b[0m\u001b[0mtorchvision\u001b[0m\u001b[0;34m.\u001b[0m\u001b[0mbackbones\u001b[0m \u001b[0;32mimport\u001b[0m \u001b[0;34m*\u001b[0m\u001b[0;34m\u001b[0m\u001b[0;34m\u001b[0m\u001b[0m\n"
      ]
     },
     "metadata": {},
     "output_type": "display_data"
    }
   ],
   "source": [
    "model_type.backbones??"
   ]
  },
  {
   "cell_type": "code",
   "execution_count": 68,
   "id": "63d9c97a-cc91-4d46-b254-31eb7f4cda18",
   "metadata": {},
   "outputs": [],
   "source": [
    "model_type = models.torchvision.mask_rcnn\n",
    "backbone = model_type.backbones.resnet34_fpn()"
   ]
  },
  {
   "cell_type": "code",
   "execution_count": 70,
   "id": "cb615a8b-1fbb-4903-9f2b-6665016ac02c",
   "metadata": {},
   "outputs": [],
   "source": [
    "ml_data_path = os.path.join(os.path.abspath(os.getcwd()),\"../ML/Data\")"
   ]
  },
  {
   "cell_type": "code",
   "execution_count": 71,
   "id": "ea27a9d9-1eff-4492-84cc-28851fbf0401",
   "metadata": {},
   "outputs": [],
   "source": [
    "import numpy as np\n",
    "path = Path(ml_data_path)\n",
    "oil_chps = np.loadtxt(path/'oil_chps.txt', dtype=str)\n",
    "codes = np.loadtxt(path/'codes-nocoincident.txt', dtype=str)\n",
    "valid_names = np.loadtxt(path/'valid_names.txt', dtype=str)"
   ]
  },
  {
   "cell_type": "code",
   "execution_count": 72,
   "id": "53199b3c-3f15-4ec9-ac4c-6649655383de",
   "metadata": {},
   "outputs": [
    {
     "data": {
      "text/plain": [
       "473"
      ]
     },
     "execution_count": 72,
     "metadata": {},
     "output_type": "execute_result"
    }
   ],
   "source": [
    "random.seed(42)\n",
    "oilless_chps = [chp for chp in get_image_files(path/'chp') if chp.stem not in oil_chps]\n",
    "density = 0\n",
    "num_oilless = density * len(oil_chps)\n",
    "mixed_chps = random.sample(oilless_chps,num_oilless) + [path/'chp'/(chp+'.png') for chp in oil_chps]\n",
    "len(mixed_chps)"
   ]
  },
  {
   "cell_type": "code",
   "execution_count": 73,
   "id": "ed5ff075-3600-4dd8-9129-6d7c2264a21e",
   "metadata": {},
   "outputs": [],
   "source": [
    "def get_chps(path): return mixed_chps\n",
    "def get_lbls(fn): return fn.parent.parent/\"lbl_no3\"/f\"{fn.name}\"\n",
    "def splitter_func(fn): return fn.name.rsplit('_',1)[0] in valid_names # XXX Check to make sure this should be returning True for Valid\n",
    "\n",
    "drive_files = get_chps(path)"
   ]
  },
  {
   "cell_type": "code",
   "execution_count": 22,
   "id": "02feaa53-79f7-4dc4-8bef-6a9956453ecd",
   "metadata": {},
   "outputs": [],
   "source": [
    "lbl_chps = [get_lbls(x) for x in mixed_chps]"
   ]
  },
  {
   "cell_type": "code",
   "execution_count": 8,
   "id": "303bde17-7c71-48af-8f3f-6d9f78a7f140",
   "metadata": {},
   "outputs": [],
   "source": [
    "lcl = Path(\"../out_data\")\n",
    "path.mkdir(exist_ok=True)\n",
    "modelpath = lcl"
   ]
  },
  {
   "cell_type": "markdown",
   "id": "236248f2-56e5-4bcf-aca2-ef2b5e9366b1",
   "metadata": {},
   "source": [
    "### Making a COCO Dataset for Mask-RCNN"
   ]
  },
  {
   "cell_type": "markdown",
   "id": "143d1c19-7050-48bc-997e-17e43d4d0f68",
   "metadata": {},
   "source": [
    "#### Annotations from raster labels\n",
    "##### https://www.immersivelimit.com/tutorials/create-coco-annotations-from-scratch this can be incorporated into solaris/lunular later. edited for single channel"
   ]
  },
  {
   "cell_type": "code",
   "execution_count": 26,
   "id": "caa5aa23-4c86-4339-b18e-2c7ff96e8b77",
   "metadata": {},
   "outputs": [],
   "source": [
    "from PIL import Image # (pip install Pillow)\n",
    "import numpy as np\n",
    "def create_sub_masks(mask_image):\n",
    "    width, height = mask_image.size\n",
    "\n",
    "    # Initialize a dictionary of sub-masks indexed by RGB colors\n",
    "    sub_masks = {}\n",
    "    for x in range(width):\n",
    "        for y in range(height):\n",
    "            # Get the VV value of the pixel\n",
    "            pixel = mask_image.getpixel((x,y))\n",
    "\n",
    "            # If the pixel is not black...\n",
    "            if pixel != 0:\n",
    "                # Check to see if we've created a sub-mask...\n",
    "                pixel_str = str(pixel)\n",
    "                sub_mask = sub_masks.get(pixel_str)\n",
    "                if sub_mask is None:\n",
    "                   # Create a sub-mask (one bit per pixel) and add to the dictionary\n",
    "                    # Note: we add 1 pixel of padding in each direction\n",
    "                    # because the contours module doesn't handle cases\n",
    "                    # where pixels bleed to the edge of the image\n",
    "                    sub_masks[pixel_str] = Image.new('1', (width+2, height+2))\n",
    "\n",
    "                # Set the pixel value to 1 (default is 0), accounting for padding\n",
    "                sub_masks[pixel_str].putpixel((x+1, y+1), 1)\n",
    "\n",
    "    return sub_masks\n",
    "\n",
    "import numpy as np                                 # (pip install numpy)\n",
    "from skimage import measure                        # (pip install scikit-image)\n",
    "from shapely.geometry import Polygon, MultiPolygon # (pip install Shapely)\n",
    "\n",
    "def create_sub_mask_annotation(sub_mask, image_id, category_id, annotation_id, is_crowd):\n",
    "    # Find contours (boundary lines) around each sub-mask\n",
    "    # Note: there could be multiple contours if the object\n",
    "    # is partially occluded. (E.g. an elephant behind a tree)\n",
    "    contours = measure.find_contours(sub_mask, 0.5, positive_orientation='low')\n",
    "\n",
    "    segmentations = []\n",
    "    polygons = []\n",
    "    for contour in contours:\n",
    "        # Flip from (row, col) representation to (x, y)\n",
    "        # and subtract the padding pixel\n",
    "        for i in range(len(contour)):\n",
    "            row, col = contour[i]\n",
    "            contour[i] = (col - 1, row - 1)\n",
    "\n",
    "        # Make a polygon and simplify it\n",
    "        poly = Polygon(contour)\n",
    "        poly = poly.simplify(1.0, preserve_topology=False)\n",
    "        polygons.append(poly)\n",
    "        segmentation = np.array(poly.exterior.coords).ravel().tolist()\n",
    "        segmentations.append(segmentation)\n",
    "\n",
    "    # Combine the polygons to calculate the bounding box and area\n",
    "    multi_poly = MultiPolygon(polygons)\n",
    "    x, y, max_x, max_y = multi_poly.bounds\n",
    "    width = max_x - x\n",
    "    height = max_y - y\n",
    "    bbox = (x, y, width, height)\n",
    "    area = multi_poly.area\n",
    "\n",
    "    annotation = {\n",
    "        'segmentation': segmentations,\n",
    "        'iscrowd': is_crowd,\n",
    "        'image_id': image_id,\n",
    "        'category_id': category_id,\n",
    "        'id': annotation_id,\n",
    "        'bbox': bbox,\n",
    "        'area': area\n",
    "    }\n",
    "\n",
    "    return annotation"
   ]
  },
  {
   "cell_type": "code",
   "execution_count": 46,
   "id": "2868c79d-8735-46b6-a167-13cae1cef251",
   "metadata": {},
   "outputs": [],
   "source": [
    "test_path = [i for i in lbl_chps if \"S1A_IW_GRDH_1SDV_20190105T221712_20190105T221737_025348_02CE45_53F2_1\" in str(i)]"
   ]
  },
  {
   "cell_type": "code",
   "execution_count": 65,
   "id": "344e07f1-da9f-4517-bdf8-86e10a1eb8a2",
   "metadata": {},
   "outputs": [
    {
     "name": "stdout",
     "output_type": "stream",
     "text": [
      "[{\"segmentation\": [[127.0, 377.5, 143.0, 371.5, 174.0, 367.5, 203.0, 360.5, 218.0, 360.5, 238.0, 349.5, 241.0, 353.5, 244.0, 348.5, 245.0, 349.5, 246.0, 347.5, 247.0, 349.5, 251.0, 345.5, 262.0, 345.5, 267.0, 341.5, 269.0, 342.5, 277.0, 340.5, 279.5, 339.0, 282.0, 333.5, 283.0, 334.5, 284.0, 332.5, 286.5, 332.0, 286.0, 330.5, 291.0, 332.5, 296.0, 329.5, 304.0, 329.5, 306.0, 327.5, 308.0, 328.5, 314.0, 324.5, 319.0, 323.5, 320.0, 321.5, 324.0, 321.5, 329.0, 316.5, 332.0, 317.5, 340.0, 313.5, 342.0, 315.5, 346.0, 312.5, 361.0, 310.5, 365.0, 307.5, 371.0, 307.5, 381.0, 304.5, 389.0, 305.5, 402.0, 302.5, 410.0, 303.5, 419.0, 298.5, 425.0, 298.5, 429.0, 295.5, 439.0, 295.5, 442.0, 292.5, 444.0, 294.5, 448.0, 291.5, 452.0, 293.5, 454.0, 288.5, 457.0, 290.5, 461.0, 285.5, 463.0, 288.5, 469.0, 283.5, 474.0, 283.5, 474.5, 281.0, 477.0, 279.5, 481.0, 281.5, 481.0, 279.5, 484.0, 279.5, 485.0, 277.5, 492.0, 277.5, 495.5, 274.0, 495.0, 271.5, 507.0, 271.5, 507.0, 269.5, 509.0, 270.5, 511.5, 268.0, 511.5, 264.0, 509.0, 263.5, 500.0, 266.5, 492.0, 270.5, 487.0, 270.5, 476.0, 277.5, 464.0, 278.5, 457.0, 284.5, 442.0, 289.5, 423.0, 291.5, 409.0, 296.5, 393.0, 295.5, 390.0, 297.5, 388.0, 296.5, 375.0, 299.5, 373.0, 298.5, 369.0, 300.5, 360.0, 300.5, 348.0, 306.5, 340.0, 308.5, 337.0, 307.5, 329.0, 311.5, 327.0, 310.5, 302.0, 323.5, 289.0, 323.5, 273.0, 334.5, 261.0, 338.5, 256.0, 338.5, 248.0, 343.5, 245.0, 343.5, 239.0, 347.5, 234.0, 347.5, 216.0, 356.5, 172.0, 363.5, 159.0, 367.5, 137.0, 371.5, 122.5, 377.0, 127.0, 377.5], [], [], [], [83.0, 388.5, 97.0, 385.5, 104.0, 387.5, 104.5, 386.0, 103.0, 386.5, 102.5, 385.0, 105.5, 384.0, 106.0, 381.5, 122.5, 378.0, 107.0, 379.5, 76.5, 387.0, 78.0, 388.5, 83.0, 388.5], [27.0, 404.5, 30.0, 402.5, 37.0, 402.5, 37.5, 399.0, 27.0, 399.5, 27.0, 404.5]], \"iscrowd\": 0, \"image_id\": 1, \"category_id\": [1], \"id\": 1, \"bbox\": [27.0, 263.5, 484.5, 141.0], \"area\": 2283.25}]\n"
     ]
    }
   ],
   "source": [
    "import json\n",
    "lbl_chps[0]\n",
    "test_mask_image = Image.open(str(test_path[0]))\n",
    "\n",
    "mask_images = [test_mask_image]\n",
    "\n",
    "# Define which colors match which categories in the images\n",
    "oil_slick_id = [1]\n",
    "category_ids = {\n",
    "    1: {\n",
    "        '1': oil_slick_id,\n",
    "    }\n",
    "}\n",
    "\n",
    "is_crowd = 0\n",
    "\n",
    "# These ids will be automatically increased as we go\n",
    "annotation_id = 1\n",
    "image_id = 1\n",
    "\n",
    "# Create the annotations\n",
    "annotations = []\n",
    "for mask_image in mask_images:\n",
    "    sub_masks = create_sub_masks(mask_image)\n",
    "    for color, sub_mask in sub_masks.items():\n",
    "        category_id = category_ids[image_id][color]\n",
    "        annotation = create_sub_mask_annotation(np.array(sub_mask), image_id, category_id, annotation_id, is_crowd)\n",
    "        annotations.append(annotation)\n",
    "        annotation_id += 1\n",
    "    image_id += 1\n",
    "\n",
    "print(json.dumps(annotations))"
   ]
  },
  {
   "cell_type": "markdown",
   "id": "3ac011fe-6096-4fd7-b7bf-d62e8b13fd73",
   "metadata": {},
   "source": [
    "https://airctic.com/0.8.1/custom_parser/"
   ]
  },
  {
   "cell_type": "code",
   "execution_count": 66,
   "id": "03de52f4-d415-464d-9d44-690d26c40e51",
   "metadata": {},
   "outputs": [
    {
     "data": {
      "text/plain": [
       "<module 'icedata.datasets.coco.parser' from '/home/rave/miniconda3/envs/icevision/lib/python3.8/site-packages/icedata/datasets/coco/parser.py'>"
      ]
     },
     "execution_count": 66,
     "metadata": {},
     "output_type": "execute_result"
    }
   ],
   "source": [
    "import icedata\n",
    "\n",
    "icedata.coco.parser"
   ]
  },
  {
   "cell_type": "markdown",
   "id": "2c412df1-54ae-4323-b839-b891ceda69a0",
   "metadata": {},
   "source": [
    "Do all transforms happen on the gpu? with icevision? do albumentations transforms happen on gpu?\n"
   ]
  },
  {
   "cell_type": "code",
   "execution_count": 75,
   "id": "357d75dc-fd6b-4c29-8575-bc334b9b07b8",
   "metadata": {},
   "outputs": [
    {
     "data": {
      "text/plain": [
       "\u001b[0;31mInit signature:\u001b[0m \u001b[0mtfms\u001b[0m\u001b[0;34m.\u001b[0m\u001b[0mtransform\u001b[0m\u001b[0;34m.\u001b[0m\u001b[0mTransform\u001b[0m\u001b[0;34m(\u001b[0m\u001b[0;34m)\u001b[0m\u001b[0;34m\u001b[0m\u001b[0;34m\u001b[0m\u001b[0m\n",
       "\u001b[0;31mDocstring:\u001b[0m     \n",
       "Helper class that provides a standard way to create an ABC using\n",
       "inheritance.\n",
       "\u001b[0;31mSource:\u001b[0m        \n",
       "\u001b[0;32mclass\u001b[0m \u001b[0mTransform\u001b[0m\u001b[0;34m(\u001b[0m\u001b[0mABC\u001b[0m\u001b[0;34m)\u001b[0m\u001b[0;34m:\u001b[0m\u001b[0;34m\u001b[0m\n",
       "\u001b[0;34m\u001b[0m    \u001b[0;32mdef\u001b[0m \u001b[0m__call__\u001b[0m\u001b[0;34m(\u001b[0m\u001b[0mself\u001b[0m\u001b[0;34m,\u001b[0m \u001b[0mrecord\u001b[0m\u001b[0;34m:\u001b[0m \u001b[0mBaseRecord\u001b[0m\u001b[0;34m)\u001b[0m\u001b[0;34m:\u001b[0m\u001b[0;34m\u001b[0m\n",
       "\u001b[0;34m\u001b[0m        \u001b[0;31m# TODO: this assumes record is already loaded and copied\u001b[0m\u001b[0;34m\u001b[0m\n",
       "\u001b[0;34m\u001b[0m        \u001b[0;31m# which is generally true\u001b[0m\u001b[0;34m\u001b[0m\n",
       "\u001b[0;34m\u001b[0m        \u001b[0;32mreturn\u001b[0m \u001b[0mself\u001b[0m\u001b[0;34m.\u001b[0m\u001b[0mapply\u001b[0m\u001b[0;34m(\u001b[0m\u001b[0mrecord\u001b[0m\u001b[0;34m)\u001b[0m\u001b[0;34m\u001b[0m\n",
       "\u001b[0;34m\u001b[0m\u001b[0;34m\u001b[0m\n",
       "\u001b[0;34m\u001b[0m    \u001b[0;34m@\u001b[0m\u001b[0mabstractmethod\u001b[0m\u001b[0;34m\u001b[0m\n",
       "\u001b[0;34m\u001b[0m    \u001b[0;32mdef\u001b[0m \u001b[0mapply\u001b[0m\u001b[0;34m(\u001b[0m\u001b[0mself\u001b[0m\u001b[0;34m,\u001b[0m \u001b[0mrecord\u001b[0m\u001b[0;34m:\u001b[0m \u001b[0mBaseRecord\u001b[0m\u001b[0;34m)\u001b[0m \u001b[0;34m->\u001b[0m \u001b[0mBaseRecord\u001b[0m\u001b[0;34m:\u001b[0m\u001b[0;34m\u001b[0m\n",
       "\u001b[0;34m\u001b[0m        \u001b[0;34m\"\"\"Apply the transform\u001b[0m\n",
       "\u001b[0;34m        Returns:\u001b[0m\n",
       "\u001b[0;34m              dict: Modified values, the keys of the dictionary should have the same\u001b[0m\n",
       "\u001b[0;34m              names as the keys received by this function\u001b[0m\n",
       "\u001b[0;34m        \"\"\"\u001b[0m\u001b[0;34m\u001b[0m\u001b[0;34m\u001b[0m\u001b[0m\n",
       "\u001b[0;31mFile:\u001b[0m           ~/miniconda3/envs/icevision/lib/python3.8/site-packages/icevision/tfms/transform.py\n",
       "\u001b[0;31mType:\u001b[0m           ABCMeta\n",
       "\u001b[0;31mSubclasses:\u001b[0m     Adapter\n"
      ]
     },
     "metadata": {},
     "output_type": "display_data"
    }
   ],
   "source": [
    "tfms.transform.Transform??"
   ]
  },
  {
   "cell_type": "code",
   "execution_count": 74,
   "id": "4e46fe87-99d7-4cc8-a826-698a65d3ffd4",
   "metadata": {},
   "outputs": [
    {
     "ename": "NameError",
     "evalue": "name 'aug_transforms' is not defined",
     "output_type": "error",
     "traceback": [
      "\u001b[0;31m---------------------------------------------------------------------------\u001b[0m",
      "\u001b[0;31mNameError\u001b[0m                                 Traceback (most recent call last)",
      "\u001b[0;32m/tmp/ipykernel_19283/3031688538.py\u001b[0m in \u001b[0;36m<module>\u001b[0;34m\u001b[0m\n\u001b[1;32m      1\u001b[0m \u001b[0msize\u001b[0m \u001b[0;34m=\u001b[0m \u001b[0;36m64\u001b[0m \u001b[0;31m# Progressive resizing could happen here\u001b[0m\u001b[0;34m\u001b[0m\u001b[0;34m\u001b[0m\u001b[0m\n\u001b[0;32m----> 2\u001b[0;31m \u001b[0maugs\u001b[0m \u001b[0;34m=\u001b[0m \u001b[0maug_transforms\u001b[0m\u001b[0;34m(\u001b[0m\u001b[0mflip_vert\u001b[0m\u001b[0;34m=\u001b[0m\u001b[0;32mTrue\u001b[0m\u001b[0;34m,\u001b[0m \u001b[0mmax_warp\u001b[0m\u001b[0;34m=\u001b[0m\u001b[0;36m0.1\u001b[0m\u001b[0;34m,\u001b[0m \u001b[0msize\u001b[0m\u001b[0;34m=\u001b[0m\u001b[0msize\u001b[0m\u001b[0;34m)\u001b[0m\u001b[0;34m\u001b[0m\u001b[0;34m\u001b[0m\u001b[0m\n\u001b[0m",
      "\u001b[0;31mNameError\u001b[0m: name 'aug_transforms' is not defined"
     ]
    }
   ],
   "source": [
    "size = 64 # Progressive resizing could happen here\n",
    "augs = aug_transforms(flip_vert=True, max_warp=0.1, size=size)"
   ]
  },
  {
   "cell_type": "code",
   "execution_count": 11,
   "id": "c72d3227-deeb-449c-8429-17276a4aee05",
   "metadata": {},
   "outputs": [
    {
     "data": {
      "text/plain": [
       "\u001b[0;31mType:\u001b[0m        module\n",
       "\u001b[0;31mString form:\u001b[0m <module 'icevision.models.torchvision.mask_rcnn' from '/home/rave/miniconda3/envs/icevision/lib/python3.8/site-packages/icevision/models/torchvision/mask_rcnn/__init__.py'>\n",
       "\u001b[0;31mFile:\u001b[0m        ~/miniconda3/envs/icevision/lib/python3.8/site-packages/icevision/models/torchvision/mask_rcnn/__init__.py\n",
       "\u001b[0;31mSource:\u001b[0m     \n",
       "\u001b[0;32mfrom\u001b[0m \u001b[0micevision\u001b[0m\u001b[0;34m.\u001b[0m\u001b[0mmodels\u001b[0m\u001b[0;34m.\u001b[0m\u001b[0mtorchvision\u001b[0m\u001b[0;34m.\u001b[0m\u001b[0mloss_fn\u001b[0m \u001b[0;32mimport\u001b[0m \u001b[0;34m*\u001b[0m\u001b[0;34m\u001b[0m\n",
       "\u001b[0;34m\u001b[0m\u001b[0;34m\u001b[0m\n",
       "\u001b[0;34m\u001b[0m\u001b[0;32mfrom\u001b[0m \u001b[0micevision\u001b[0m\u001b[0;34m.\u001b[0m\u001b[0mmodels\u001b[0m\u001b[0;34m.\u001b[0m\u001b[0mtorchvision\u001b[0m\u001b[0;34m.\u001b[0m\u001b[0mmask_rcnn\u001b[0m \u001b[0;32mimport\u001b[0m \u001b[0mbackbones\u001b[0m\u001b[0;34m\u001b[0m\n",
       "\u001b[0;34m\u001b[0m\u001b[0;32mfrom\u001b[0m \u001b[0micevision\u001b[0m\u001b[0;34m.\u001b[0m\u001b[0mmodels\u001b[0m\u001b[0;34m.\u001b[0m\u001b[0mtorchvision\u001b[0m\u001b[0;34m.\u001b[0m\u001b[0mmask_rcnn\u001b[0m\u001b[0;34m.\u001b[0m\u001b[0mdataloaders\u001b[0m \u001b[0;32mimport\u001b[0m \u001b[0;34m*\u001b[0m\u001b[0;34m\u001b[0m\n",
       "\u001b[0;34m\u001b[0m\u001b[0;32mfrom\u001b[0m \u001b[0micevision\u001b[0m\u001b[0;34m.\u001b[0m\u001b[0mmodels\u001b[0m\u001b[0;34m.\u001b[0m\u001b[0mtorchvision\u001b[0m\u001b[0;34m.\u001b[0m\u001b[0mmask_rcnn\u001b[0m\u001b[0;34m.\u001b[0m\u001b[0mmodel\u001b[0m \u001b[0;32mimport\u001b[0m \u001b[0;34m*\u001b[0m\u001b[0;34m\u001b[0m\n",
       "\u001b[0;34m\u001b[0m\u001b[0;32mfrom\u001b[0m \u001b[0micevision\u001b[0m\u001b[0;34m.\u001b[0m\u001b[0mmodels\u001b[0m\u001b[0;34m.\u001b[0m\u001b[0mtorchvision\u001b[0m\u001b[0;34m.\u001b[0m\u001b[0mmask_rcnn\u001b[0m\u001b[0;34m.\u001b[0m\u001b[0mprediction\u001b[0m \u001b[0;32mimport\u001b[0m \u001b[0;34m*\u001b[0m\u001b[0;34m\u001b[0m\n",
       "\u001b[0;34m\u001b[0m\u001b[0;32mfrom\u001b[0m \u001b[0micevision\u001b[0m\u001b[0;34m.\u001b[0m\u001b[0mmodels\u001b[0m\u001b[0;34m.\u001b[0m\u001b[0mtorchvision\u001b[0m\u001b[0;34m.\u001b[0m\u001b[0mmask_rcnn\u001b[0m\u001b[0;34m.\u001b[0m\u001b[0mshow_results\u001b[0m \u001b[0;32mimport\u001b[0m \u001b[0;34m*\u001b[0m\u001b[0;34m\u001b[0m\n",
       "\u001b[0;34m\u001b[0m\u001b[0;32mfrom\u001b[0m \u001b[0micevision\u001b[0m\u001b[0;34m.\u001b[0m\u001b[0mmodels\u001b[0m\u001b[0;34m.\u001b[0m\u001b[0mtorchvision\u001b[0m\u001b[0;34m.\u001b[0m\u001b[0mmask_rcnn\u001b[0m\u001b[0;34m.\u001b[0m\u001b[0mshow_batch\u001b[0m \u001b[0;32mimport\u001b[0m \u001b[0;34m*\u001b[0m\u001b[0;34m\u001b[0m\n",
       "\u001b[0;34m\u001b[0m\u001b[0;34m\u001b[0m\n",
       "\u001b[0;34m\u001b[0m\u001b[0;31m# Soft dependencies\u001b[0m\u001b[0;34m\u001b[0m\n",
       "\u001b[0;34m\u001b[0m\u001b[0;32mfrom\u001b[0m \u001b[0micevision\u001b[0m\u001b[0;34m.\u001b[0m\u001b[0msoft_dependencies\u001b[0m \u001b[0;32mimport\u001b[0m \u001b[0mSoftDependencies\u001b[0m\u001b[0;34m\u001b[0m\n",
       "\u001b[0;34m\u001b[0m\u001b[0;34m\u001b[0m\n",
       "\u001b[0;34m\u001b[0m\u001b[0;32mif\u001b[0m \u001b[0mSoftDependencies\u001b[0m\u001b[0;34m.\u001b[0m\u001b[0mfastai\u001b[0m\u001b[0;34m:\u001b[0m\u001b[0;34m\u001b[0m\n",
       "\u001b[0;34m\u001b[0m    \u001b[0;32mimport\u001b[0m \u001b[0micevision\u001b[0m\u001b[0;34m.\u001b[0m\u001b[0mmodels\u001b[0m\u001b[0;34m.\u001b[0m\u001b[0mtorchvision\u001b[0m\u001b[0;34m.\u001b[0m\u001b[0mmask_rcnn\u001b[0m\u001b[0;34m.\u001b[0m\u001b[0mfastai\u001b[0m\u001b[0;34m\u001b[0m\n",
       "\u001b[0;34m\u001b[0m\u001b[0;34m\u001b[0m\n",
       "\u001b[0;34m\u001b[0m\u001b[0;32mif\u001b[0m \u001b[0mSoftDependencies\u001b[0m\u001b[0;34m.\u001b[0m\u001b[0mpytorch_lightning\u001b[0m\u001b[0;34m:\u001b[0m\u001b[0;34m\u001b[0m\n",
       "\u001b[0;34m\u001b[0m    \u001b[0;32mimport\u001b[0m \u001b[0micevision\u001b[0m\u001b[0;34m.\u001b[0m\u001b[0mmodels\u001b[0m\u001b[0;34m.\u001b[0m\u001b[0mtorchvision\u001b[0m\u001b[0;34m.\u001b[0m\u001b[0mmask_rcnn\u001b[0m\u001b[0;34m.\u001b[0m\u001b[0mlightning\u001b[0m\u001b[0;34m\u001b[0m\u001b[0;34m\u001b[0m\u001b[0m\n"
      ]
     },
     "metadata": {},
     "output_type": "display_data"
    }
   ],
   "source": [
    "model_type??"
   ]
  },
  {
   "cell_type": "code",
   "execution_count": null,
   "id": "c6b366b0-70a5-4f88-9728-4d7847065c7a",
   "metadata": {},
   "outputs": [],
   "source": []
  }
 ],
 "metadata": {
  "kernelspec": {
   "display_name": "Python [conda env:icevision]",
   "language": "python",
   "name": "conda-env-icevision-py"
  },
  "language_info": {
   "codemirror_mode": {
    "name": "ipython",
    "version": 3
   },
   "file_extension": ".py",
   "mimetype": "text/x-python",
   "name": "python",
   "nbconvert_exporter": "python",
   "pygments_lexer": "ipython3",
   "version": "3.8.12"
  }
 },
 "nbformat": 4,
 "nbformat_minor": 5
}
