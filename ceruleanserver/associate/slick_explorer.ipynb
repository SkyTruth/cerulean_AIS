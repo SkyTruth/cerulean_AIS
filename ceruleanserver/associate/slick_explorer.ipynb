{
 "cells": [
  {
   "cell_type": "markdown",
   "id": "85e6a45f-70b8-47da-bcf8-65ad7843a451",
   "metadata": {},
   "source": [
    "# Oil Slick Explorer"
   ]
  },
  {
   "cell_type": "code",
   "execution_count": 1,
   "id": "6aff1fb4-6c05-4aed-ae73-066ff55e09bb",
   "metadata": {},
   "outputs": [],
   "source": [
    "from slickmap import SlickMap"
   ]
  },
  {
   "cell_type": "code",
   "execution_count": 2,
   "id": "8bb3717f-f827-4d82-b798-f48a73c831fc",
   "metadata": {},
   "outputs": [
    {
     "name": "stderr",
     "output_type": "stream",
     "text": [
      "/home/k3blu3/mldev/lib/python3.10/site-packages/shapely/set_operations.py:133: RuntimeWarning: invalid value encountered in intersection\n",
      "  return lib.intersection(a, b, **kwargs)\n",
      "/home/k3blu3/mldev/lib/python3.10/site-packages/shapely/set_operations.py:133: RuntimeWarning: invalid value encountered in intersection\n",
      "  return lib.intersection(a, b, **kwargs)\n",
      "/home/k3blu3/mldev/lib/python3.10/site-packages/jupyter_client/session.py:718: UserWarning: Message serialization failed with:\n",
      "Out of range float values are not JSON compliant\n",
      "Supporting this message is deprecated in jupyter-client 7, please make sure your message is JSON-compliant\n",
      "  content = self.pack(content)\n",
      "/home/k3blu3/mldev/lib/python3.10/site-packages/shapely/set_operations.py:133: RuntimeWarning: invalid value encountered in intersection\n",
      "  return lib.intersection(a, b, **kwargs)\n",
      "/home/k3blu3/mldev/lib/python3.10/site-packages/shapely/set_operations.py:133: RuntimeWarning: invalid value encountered in intersection\n",
      "  return lib.intersection(a, b, **kwargs)\n"
     ]
    }
   ],
   "source": [
    "sm = SlickMap()"
   ]
  },
  {
   "cell_type": "code",
   "execution_count": 3,
   "id": "231f1c27-84f1-4240-a7f0-57e141d8541f",
   "metadata": {},
   "outputs": [
    {
     "data": {
      "application/vnd.jupyter.widget-view+json": {
       "model_id": "aa0466b87c71427eb4eadde671885eb7",
       "version_major": 2,
       "version_minor": 0
      },
      "text/plain": [
       "Map(center=[-4.3923093025115065, 124.4156247460479], controls=(WidgetControl(options=['position', 'transparent…"
      ]
     },
     "execution_count": 3,
     "metadata": {},
     "output_type": "execute_result"
    }
   ],
   "source": [
    "sm.map"
   ]
  },
  {
   "cell_type": "code",
   "execution_count": 8,
   "id": "9e92a2dd-d9b7-4c55-a65f-76fb38a41a9b",
   "metadata": {},
   "outputs": [
    {
     "data": {
      "text/plain": [
       "'S1B_IW_GRDH_1SDV_20210626T051247_20210626T051312_027523_034911_53D5'"
      ]
     },
     "execution_count": 8,
     "metadata": {},
     "output_type": "execute_result"
    }
   ],
   "source": [
    "sm.basename"
   ]
  },
  {
   "cell_type": "code",
   "execution_count": null,
   "id": "0780b858-1af8-4bb9-826c-422d71d7eddf",
   "metadata": {},
   "outputs": [],
   "source": []
  }
 ],
 "metadata": {
  "kernelspec": {
   "display_name": "mldev",
   "language": "python",
   "name": "mldev"
  },
  "language_info": {
   "codemirror_mode": {
    "name": "ipython",
    "version": 3
   },
   "file_extension": ".py",
   "mimetype": "text/x-python",
   "name": "python",
   "nbconvert_exporter": "python",
   "pygments_lexer": "ipython3",
   "version": "3.10.6"
  }
 },
 "nbformat": 4,
 "nbformat_minor": 5
}
