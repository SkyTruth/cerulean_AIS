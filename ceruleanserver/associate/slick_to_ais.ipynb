{
 "cells": [
  {
   "cell_type": "markdown",
   "id": "68e4232d-c4b3-47d5-b971-70f39b12ed36",
   "metadata": {
    "tags": []
   },
   "source": [
    "![Skytruth Logo](skytruth_logo.png)\n",
    "# Cerulean - Global Monitoring of Oil Pollution with Sentinel-1\n",
    "## Slick to AIS Association"
   ]
  },
  {
   "cell_type": "markdown",
   "id": "79ce0439-3ecd-4a5c-be18-a857c9a85ddb",
   "metadata": {},
   "source": [
    "#### This notebook serves as a step-by-step guide for running the slick/AIS association pipeline for a single input sample."
   ]
  },
  {
   "cell_type": "code",
   "execution_count": null,
   "id": "192b1bc5-a518-4a41-9d08-4c2dbbeae806",
   "metadata": {},
   "outputs": [],
   "source": [
    "from datetime import datetime, timedelta\n",
    "import os\n",
    "\n",
    "import geopandas as gpd\n",
    "import matplotlib.pyplot as plt\n",
    "import movingpandas as mpd\n",
    "import numpy as np\n",
    "import pandas as pd\n",
    "\n",
    "from utils.associate import associate_ais_to_slicks, slicks_to_curves\n",
    "from utils.constants import (DATA_DIR, AIS_DIR, SLICK_DIR, TRUTH_FILE,\n",
    "                             HOURS_BEFORE, NUM_TIMESTEPS,\n",
    "                             BUF_START, BUF_END, BUF_VEC,\n",
    "                             WEIGHT_START, WEIGHT_END, WEIGHT_VEC)\n",
    "from utils.gee import get_s1_tile_layer\n",
    "from utils.misc import build_time_vec, get_utm_zone\n",
    "from utils.trajectory import ais_points_to_trajectories, buffer_trajectories"
   ]
  },
  {
   "cell_type": "markdown",
   "id": "a65ae224-22b4-423f-8b79-3fde23463dd7",
   "metadata": {},
   "source": [
    "#### Read in sample data - a single S1 scene"
   ]
  },
  {
   "cell_type": "code",
   "execution_count": null,
   "id": "0f52f17d-e277-4ef8-b06f-305ab3a6743b",
   "metadata": {},
   "outputs": [],
   "source": [
    "PID = 'S1B_IW_GRDH_1SDV_20210626T051247_20210626T051312_027523_034911_53D5'\n",
    "ais_file = f'./sample_data/{PID}_ais.geojson'\n",
    "slicks_file = f'./sample_data/{PID}_slicks.geojson'\n",
    "oldmodel_file = f'./sample_data/{PID}_oldmodel.csv'"
   ]
  },
  {
   "cell_type": "code",
   "execution_count": null,
   "id": "7867fa61-84fc-4e49-9378-08b860520b34",
   "metadata": {},
   "outputs": [],
   "source": [
    "ais = gpd.read_file(ais_file)\n",
    "slicks = gpd.read_file(slicks_file)\n",
    "oldmodel = pd.read_csv(oldmodel_file)"
   ]
  },
  {
   "cell_type": "markdown",
   "id": "848b6906-e21f-48bb-acf9-3abb680642e0",
   "metadata": {},
   "source": [
    "#### Build time vector, reproject to UTM"
   ]
  },
  {
   "cell_type": "code",
   "execution_count": null,
   "id": "791cf663-e23d-4be6-a6b6-1b8a22e30a97",
   "metadata": {},
   "outputs": [],
   "source": [
    "collect_time = datetime.strptime(PID.split('_')[4], '%Y%m%dT%H%M%S')\n",
    "time_vec = build_time_vec(collect_time, HOURS_BEFORE, NUM_TIMESTEPS)"
   ]
  },
  {
   "cell_type": "code",
   "execution_count": null,
   "id": "73da52e1-94a1-470f-96af-f5c11b8e176b",
   "metadata": {},
   "outputs": [],
   "source": [
    "utm_zone = get_utm_zone(ais)\n",
    "ais = ais.to_crs(utm_zone)\n",
    "slicks = slicks.to_crs(utm_zone)"
   ]
  },
  {
   "cell_type": "markdown",
   "id": "7f27896e-5dff-45b0-be15-f07913f48692",
   "metadata": {},
   "source": [
    "#### Build AIS trajectories along the time vector"
   ]
  },
  {
   "cell_type": "code",
   "execution_count": null,
   "id": "5980caac-537d-46a7-ae70-abbcdd0e8293",
   "metadata": {},
   "outputs": [],
   "source": [
    "ais_traj = ais_points_to_trajectories(ais, time_vec)"
   ]
  },
  {
   "cell_type": "markdown",
   "id": "4ac80496-baac-4e5d-8c4a-8de7715d08a9",
   "metadata": {},
   "source": [
    "#### Create conic buffers with corresponding weights around AIS trajectories"
   ]
  },
  {
   "cell_type": "code",
   "execution_count": null,
   "id": "4c8ba2e5-0100-4156-828c-d0f03ef8e92e",
   "metadata": {},
   "outputs": [],
   "source": [
    "ais_buffered, ais_weighted = buffer_trajectories(ais_traj, BUF_VEC, WEIGHT_VEC)"
   ]
  },
  {
   "cell_type": "markdown",
   "id": "ffdee5a6-dadd-4351-b06d-8f44b0bd1047",
   "metadata": {},
   "source": [
    "#### Fit a curve for every oil slick"
   ]
  },
  {
   "cell_type": "code",
   "execution_count": null,
   "id": "1dd7cede-981c-4e36-bb5e-73f352032693",
   "metadata": {},
   "outputs": [],
   "source": [
    "slicks_clean, slicks_curves = slicks_to_curves(slicks)"
   ]
  },
  {
   "cell_type": "markdown",
   "id": "44851302-e8d5-4a7a-8fd3-9e5eab7511cd",
   "metadata": {},
   "source": [
    "#### Associate oil slicks to AIS trajectories"
   ]
  },
  {
   "cell_type": "code",
   "execution_count": null,
   "id": "0c6dad7b-7bd9-43aa-90f1-62e1f00ccb8f",
   "metadata": {},
   "outputs": [],
   "source": [
    "slick_ais = associate_ais_to_slicks(ais_traj, ais_buffered, ais_weighted, slicks_clean, slicks_curves)"
   ]
  },
  {
   "cell_type": "markdown",
   "id": "d67beb2b-f4d3-421f-8384-29813d2d30c0",
   "metadata": {},
   "source": [
    "#### Display highest score per slick in the scene"
   ]
  },
  {
   "cell_type": "code",
   "execution_count": null,
   "id": "b32ae00d-a943-47b2-8b21-0fc0a3021342",
   "metadata": {},
   "outputs": [],
   "source": [
    "results = slick_ais.sort_values(\n",
    "    ['slick_index', 'slick_size', 'total_score'],\n",
    "    ascending=[True, False, False]\n",
    ").groupby('slick_index')"
   ]
  },
  {
   "cell_type": "code",
   "execution_count": null,
   "id": "9591ed72-6b1d-4e7a-ba88-f14323d6e3ce",
   "metadata": {},
   "outputs": [],
   "source": [
    "for name, group in results:\n",
    "    disp = group[['slick_index', 'total_score', 'temporal_score', 'overlap_score', 'frechet_dist', 'traj_id']].head(1)\n",
    "    display(disp)"
   ]
  }
 ],
 "metadata": {
  "kernelspec": {
   "display_name": "mldev",
   "language": "python",
   "name": "mldev"
  },
  "language_info": {
   "codemirror_mode": {
    "name": "ipython",
    "version": 3
   },
   "file_extension": ".py",
   "mimetype": "text/x-python",
   "name": "python",
   "nbconvert_exporter": "python",
   "pygments_lexer": "ipython3",
   "version": "3.10.6"
  }
 },
 "nbformat": 4,
 "nbformat_minor": 5
}
