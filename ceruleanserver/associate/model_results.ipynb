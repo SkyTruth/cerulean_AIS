{
 "cells": [
  {
   "cell_type": "code",
   "execution_count": null,
   "id": "53ededde-e06f-46db-848f-52e31051f3e9",
   "metadata": {},
   "outputs": [],
   "source": [
    "import pandas as pd\n",
    "import geopandas as gpd\n",
    "import numpy as np\n",
    "import matplotlib.pyplot as plt\n",
    "import os"
   ]
  },
  {
   "cell_type": "code",
   "execution_count": null,
   "id": "484eb75a-5c9d-4f31-9599-10940ec5104b",
   "metadata": {},
   "outputs": [],
   "source": [
    "results_file = 'results_20230405.geojson'\n",
    "results = gpd.read_file(results_file)"
   ]
  },
  {
   "cell_type": "code",
   "execution_count": null,
   "id": "a8156785-2ea4-4d82-9a4e-66eb4ba50a9a",
   "metadata": {},
   "outputs": [],
   "source": [
    "truth_file = '/home/k3blu3/datasets/cerulean/slick_truth_year1.csv'\n",
    "truth = pd.read_csv(truth_file)"
   ]
  },
  {
   "cell_type": "code",
   "execution_count": null,
   "id": "096fa238-34d6-4649-9978-7b5531bebc9d",
   "metadata": {},
   "outputs": [],
   "source": [
    "truth = truth[['PID', 'HITL MMSI', 'HITL Confidence', 'Algo MMSI', 'Algo Score']]"
   ]
  },
  {
   "cell_type": "code",
   "execution_count": null,
   "id": "a29f1cd9-6b4e-4965-86b3-cf35e066a806",
   "metadata": {},
   "outputs": [],
   "source": [
    "results"
   ]
  },
  {
   "cell_type": "code",
   "execution_count": null,
   "id": "feccd4ff-efb5-4d26-bd20-b3c3f49a3028",
   "metadata": {},
   "outputs": [],
   "source": [
    "results = pd.merge(results, truth, on='PID')"
   ]
  },
  {
   "cell_type": "code",
   "execution_count": null,
   "id": "af1d5897-2e9a-4279-8dd0-c86746e8cb8d",
   "metadata": {},
   "outputs": [],
   "source": [
    "results = results.assign(truth=results['HITL MMSI'].str.split(',')).explode('truth')"
   ]
  },
  {
   "cell_type": "code",
   "execution_count": null,
   "id": "2baf8705-2d06-4332-874f-81c78c7c96fe",
   "metadata": {},
   "outputs": [],
   "source": [
    "len(pd.unique(results['PID']))"
   ]
  },
  {
   "cell_type": "code",
   "execution_count": null,
   "id": "15ab1dae-307c-4c9f-b6b6-9312ddecc7e4",
   "metadata": {},
   "outputs": [],
   "source": [
    "results.head(5)"
   ]
  },
  {
   "cell_type": "code",
   "execution_count": null,
   "id": "c457e6dc-c4de-4712-bcc3-225667accc44",
   "metadata": {},
   "outputs": [],
   "source": [
    "results['truth'] = results['truth'].str.strip()"
   ]
  },
  {
   "cell_type": "code",
   "execution_count": null,
   "id": "7b93c6fa-179f-44ec-92e7-07dd33591689",
   "metadata": {},
   "outputs": [],
   "source": [
    "comparisons = list()\n",
    "for pid, pid_group in results.groupby('PID'):\n",
    "    for sidx, slick_group in pid_group.groupby('slick_index'):\n",
    "        slick_group = slick_group.sort_values('total_score', ascending=False)\n",
    "        \n",
    "        entry = dict()\n",
    "        entry['PID'] = slick_group.iloc[0].PID\n",
    "        entry['temporal_score'] = slick_group.iloc[0].temporal_score\n",
    "        entry['overlap_score'] = slick_group.iloc[0].overlap_score\n",
    "        entry['frechet_dist'] = slick_group.iloc[0].frechet_dist\n",
    "        entry['Krishna MMSI'] = slick_group.iloc[0].traj_id\n",
    "        entry['Krishna Score'] = slick_group.iloc[0]['total_score']\n",
    "        entry['Truth MMSI'] = slick_group.iloc[0]['truth']\n",
    "        entry['Algo MMSI'] = slick_group.iloc[0]['Algo MMSI']\n",
    "\n",
    "        comparisons.append(entry)\n",
    "        \n",
    "comparisons = pd.DataFrame(comparisons)"
   ]
  },
  {
   "cell_type": "code",
   "execution_count": null,
   "id": "2f2ae3e7-2e9d-4ae8-b7e8-5051d3b516c5",
   "metadata": {},
   "outputs": [],
   "source": [
    "pid = list()\n",
    "krishna_score = list()\n",
    "krishna_mmsi = list()\n",
    "algo_mmsi = list()\n",
    "truth_mmsi = list()\n",
    "\n",
    "for p, group in comparisons.groupby('PID'):\n",
    "    for truth in pd.unique(group['Truth MMSI']):\n",
    "        if truth != 'DARK':\n",
    "            pid.append(p)\n",
    "            algo_mmsi.append(group['Algo MMSI'].iloc[0].astype(str))\n",
    "            truth_mmsi.append(truth)\n",
    "            if (group['Krishna MMSI'].astype(str) == truth).any():\n",
    "                row = group[group['Krishna MMSI'].astype(str) == truth]\n",
    "                krishna_mmsi.append(row.iloc[0]['Krishna MMSI'])\n",
    "                krishna_score.append(np.float32(row.iloc[0]['Krishna Score']))\n",
    "            else:\n",
    "                krishna_idx = group['Krishna Score'].astype(np.float32).idxmax()\n",
    "                krishna_mmsi.append(group.loc[krishna_idx]['Krishna MMSI'])\n",
    "                krishna_score.append(np.float32(group.loc[krishna_idx]['Krishna Score']))"
   ]
  },
  {
   "cell_type": "code",
   "execution_count": null,
   "id": "15b44eff-0ee7-4648-b847-cdb468a7c1b0",
   "metadata": {},
   "outputs": [],
   "source": [
    "res = pd.DataFrame({'pid': pid, 'krishna_score': krishna_score, 'krishna_mmsi': krishna_mmsi, 'algo_mmsi': algo_mmsi, 'truth_mmsi': truth_mmsi})"
   ]
  },
  {
   "cell_type": "code",
   "execution_count": null,
   "id": "7349ca60-953f-4bde-a617-536bdb3fc866",
   "metadata": {},
   "outputs": [],
   "source": [
    "krishna_correct = res[res['krishna_mmsi'] == res['truth_mmsi']]"
   ]
  },
  {
   "cell_type": "code",
   "execution_count": null,
   "id": "677800a2-288e-4ec8-9e75-8eaedcd2685f",
   "metadata": {},
   "outputs": [],
   "source": [
    "krishna_incorrect = res[res['krishna_mmsi'] != res['truth_mmsi']]"
   ]
  },
  {
   "cell_type": "code",
   "execution_count": null,
   "id": "d0c22b44-0cde-425f-8a46-83ba9dd02f44",
   "metadata": {},
   "outputs": [],
   "source": [
    "algo_correct = res[res['algo_mmsi'] == res['truth_mmsi']]"
   ]
  },
  {
   "cell_type": "code",
   "execution_count": null,
   "id": "fb80b0b9-15a2-4a86-af3b-3a3965fa3ab8",
   "metadata": {},
   "outputs": [],
   "source": [
    "algo_incorrect = res[res['algo_mmsi'] != res['truth_mmsi']]"
   ]
  },
  {
   "cell_type": "code",
   "execution_count": null,
   "id": "c7019adf-7d28-4a26-82fd-ab5881a8fc02",
   "metadata": {},
   "outputs": [],
   "source": [
    "res[(res['krishna_mmsi']!=res['truth_mmsi']) & (res['algo_mmsi']==res['truth_mmsi'])]"
   ]
  },
  {
   "cell_type": "code",
   "execution_count": null,
   "id": "4d186433-d6b5-4b74-9477-6784f7fc3594",
   "metadata": {},
   "outputs": [],
   "source": [
    "res.to_json('cerulean_ais_model_results_krishna_20230407.json')"
   ]
  },
  {
   "cell_type": "code",
   "execution_count": null,
   "id": "fefe6c32-3620-4b07-950f-b5c30975e8d4",
   "metadata": {},
   "outputs": [],
   "source": [
    "pd.options.display.max_colwidth=100"
   ]
  },
  {
   "cell_type": "code",
   "execution_count": null,
   "id": "35c8cff6-a1ec-4571-ba7d-24f4d946c71e",
   "metadata": {},
   "outputs": [],
   "source": [
    "algo_incorrect"
   ]
  },
  {
   "cell_type": "code",
   "execution_count": null,
   "id": "95d2adbe-0f4a-461c-a79c-5a8c21fbb401",
   "metadata": {},
   "outputs": [],
   "source": [
    "100 * len(krishna_correct) / len(res)"
   ]
  },
  {
   "cell_type": "code",
   "execution_count": null,
   "id": "47aaaf13-915a-43e9-a385-8deecf7468fd",
   "metadata": {},
   "outputs": [],
   "source": [
    "100 * len(algo_correct) / len(res)"
   ]
  },
  {
   "cell_type": "code",
   "execution_count": null,
   "id": "d7c006fb-7945-407b-a982-2e0c265eb6e6",
   "metadata": {},
   "outputs": [],
   "source": [
    "plt.figure(dpi=200, figsize=(10, 5))\n",
    "plt.style.use('ggplot')\n",
    "plt.subplot(1, 2, 1)\n",
    "plt.hist(krishna_correct.krishna_score, color='red', alpha=0.7)\n",
    "plt.title('Correct Matches')\n",
    "plt.xlabel('Score')\n",
    "plt.ylabel('Counts')\n",
    "plt.subplot(1, 2, 2)\n",
    "plt.hist(krishna_incorrect.krishna_score, color='blue', alpha=0.7)\n",
    "plt.title('Incorrect Matches')\n",
    "plt.xlabel('Score')\n",
    "plt.ylabel('Counts')"
   ]
  },
  {
   "cell_type": "code",
   "execution_count": null,
   "id": "1454ecf0-5d3b-4505-93e2-954ec58acbed",
   "metadata": {},
   "outputs": [],
   "source": [
    "len(new_correct)"
   ]
  },
  {
   "cell_type": "code",
   "execution_count": null,
   "id": "fb047889-cb9e-45ff-98d6-1b8fafaab436",
   "metadata": {},
   "outputs": [],
   "source": [
    "old_correct = not_dark[not_dark['Algo MMSI'].astype(str) == not_dark['Truth MMSI']].drop_duplicates(subset=['PID', 'Truth MMSI'])"
   ]
  },
  {
   "cell_type": "code",
   "execution_count": null,
   "id": "0fc706ca-b85c-4960-873d-e891fc30075e",
   "metadata": {},
   "outputs": [],
   "source": [
    "len(old_correct)"
   ]
  },
  {
   "cell_type": "code",
   "execution_count": null,
   "id": "489d5b2e-7df3-4729-8650-803acfb94c7e",
   "metadata": {},
   "outputs": [],
   "source": [
    "print(100*len(new_correct) / len(not_dark.drop_duplicates(subset=['PID', 'Truth MMSI'])))"
   ]
  },
  {
   "cell_type": "code",
   "execution_count": null,
   "id": "156e82e1-7aea-408d-abb5-64bdb2dacc7e",
   "metadata": {},
   "outputs": [],
   "source": [
    "print(100*len(old_correct) / len(not_dark.drop_duplicates(subset=['PID', 'Truth MMSI'])))"
   ]
  },
  {
   "cell_type": "code",
   "execution_count": null,
   "id": "c85ab1cb-64d7-4e89-8fc0-76a33502a07d",
   "metadata": {},
   "outputs": [],
   "source": [
    "new_correct"
   ]
  },
  {
   "cell_type": "code",
   "execution_count": null,
   "id": "854d10c8-fcfa-49e5-8890-d53324b4de73",
   "metadata": {},
   "outputs": [],
   "source": [
    "old_correct"
   ]
  }
 ],
 "metadata": {
  "kernelspec": {
   "display_name": "mldev",
   "language": "python",
   "name": "mldev"
  },
  "language_info": {
   "codemirror_mode": {
    "name": "ipython",
    "version": 3
   },
   "file_extension": ".py",
   "mimetype": "text/x-python",
   "name": "python",
   "nbconvert_exporter": "python",
   "pygments_lexer": "ipython3",
   "version": "3.10.6"
  }
 },
 "nbformat": 4,
 "nbformat_minor": 5
}
