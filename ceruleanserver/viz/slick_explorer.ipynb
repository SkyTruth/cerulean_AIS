{
 "cells": [
  {
   "cell_type": "markdown",
   "id": "3f99d018-f1b7-4c3f-807e-2acc0b10d052",
   "metadata": {},
   "source": [
    "# Oil Slick Explorer"
   ]
  },
  {
   "cell_type": "code",
   "execution_count": null,
   "id": "6aff1fb4-6c05-4aed-ae73-066ff55e09bb",
   "metadata": {},
   "outputs": [],
   "source": [
    "from slickmap import SlickMap"
   ]
  },
  {
   "cell_type": "code",
   "execution_count": null,
   "id": "8bb3717f-f827-4d82-b798-f48a73c831fc",
   "metadata": {},
   "outputs": [],
   "source": [
    "sm = SlickMap()"
   ]
  },
  {
   "cell_type": "code",
   "execution_count": null,
   "id": "07326fe6-2aa4-4361-b07f-c3cd785f377f",
   "metadata": {},
   "outputs": [],
   "source": [
    "sm.map"
   ]
  }
 ],
 "metadata": {
  "kernelspec": {
   "display_name": "mldev",
   "language": "python",
   "name": "mldev"
  },
  "language_info": {
   "codemirror_mode": {
    "name": "ipython",
    "version": 3
   },
   "file_extension": ".py",
   "mimetype": "text/x-python",
   "name": "python",
   "nbconvert_exporter": "python",
   "pygments_lexer": "ipython3",
   "version": "3.10.6"
  }
 },
 "nbformat": 4,
 "nbformat_minor": 5
}
