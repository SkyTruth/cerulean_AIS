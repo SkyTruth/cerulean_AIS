{
 "cells": [
  {
   "cell_type": "markdown",
   "id": "ac9b0753-c263-4ddf-81d0-a1b8dc3a1d3c",
   "metadata": {},
   "source": [
    "# AIS Dataset Exploration"
   ]
  },
  {
   "cell_type": "code",
   "execution_count": null,
   "id": "1c7ada99-eb06-4c82-b42a-15ff6f89733a",
   "metadata": {},
   "outputs": [],
   "source": [
    "import geopandas as gpd\n",
    "import pandas as pd\n",
    "import numpy as np\n",
    "import shapely.geometry\n",
    "from shapely import wkt\n",
    "import os\n",
    "import matplotlib.pyplot as plt\n",
    "from tqdm import tqdm\n",
    "from glob import glob\n",
    "\n",
    "import ee\n",
    "ee.Initialize()"
   ]
  },
  {
   "cell_type": "markdown",
   "id": "2b907359-3761-4f92-b7e2-decc869dd187",
   "metadata": {},
   "source": [
    "## Load in data"
   ]
  },
  {
   "cell_type": "code",
   "execution_count": null,
   "id": "0e79125e-2d15-4de4-96ae-37f59d548c80",
   "metadata": {},
   "outputs": [],
   "source": [
    "data_dir = '/home/k3blu3/datasets/cerulean'\n",
    "ais_name = '19_ais'\n",
    "model_name = '19_coincidence'\n",
    "slick_name = '19_vectors'\n",
    "truth_file = 'slick_truth_year1.csv'"
   ]
  },
  {
   "cell_type": "code",
   "execution_count": null,
   "id": "b62e9cf7-6d2e-4b98-b015-538550fff337",
   "metadata": {},
   "outputs": [],
   "source": [
    "truth = pd.read_csv(os.path.join(data_dir, truth_file))"
   ]
  },
  {
   "cell_type": "code",
   "execution_count": null,
   "id": "8ec17edf-00fd-490a-a6d6-f462e426ecbc",
   "metadata": {},
   "outputs": [],
   "source": [
    "truth = truth.rename(columns={'PID': 'basename'})"
   ]
  },
  {
   "cell_type": "code",
   "execution_count": null,
   "id": "3ba9f036-81a9-4d6c-b2cf-3428bcf41273",
   "metadata": {},
   "outputs": [],
   "source": [
    "ais_files = glob(os.path.join(os.path.join(data_dir, ais_name), '*.geojson'))\n",
    "model_files = glob(os.path.join(os.path.join(data_dir, model_name), '*.csv'))\n",
    "slick_files = glob(os.path.join(os.path.join(data_dir, slick_name), '*.geojson'))"
   ]
  },
  {
   "cell_type": "code",
   "execution_count": null,
   "id": "3800330e-7db5-415d-b71b-67df0d3d9e5e",
   "metadata": {},
   "outputs": [],
   "source": [
    "ais = pd.DataFrame(ais_files)\n",
    "model = pd.DataFrame(model_files)\n",
    "slick = pd.DataFrame(slick_files)"
   ]
  },
  {
   "cell_type": "code",
   "execution_count": null,
   "id": "fe37fcce-80f4-46a9-a635-f04362c759e0",
   "metadata": {},
   "outputs": [],
   "source": [
    "ais = ais.rename(columns={0: 'fname'})\n",
    "model = model.rename(columns={0: 'fname'})\n",
    "slick = slick.rename(columns={0: 'fname'})"
   ]
  },
  {
   "cell_type": "code",
   "execution_count": null,
   "id": "06d8fdc7-41a6-4684-a0e8-3928713f9110",
   "metadata": {},
   "outputs": [],
   "source": [
    "ais['basename'] = ais['fname'].apply(lambda x: os.path.splitext(os.path.basename(x))[0])\n",
    "model['basename'] = model['fname'].apply(lambda x: os.path.splitext(os.path.basename(x))[0])\n",
    "slick['basename'] = slick['fname'].apply(lambda x: os.path.splitext(os.path.basename(x))[0])"
   ]
  },
  {
   "cell_type": "code",
   "execution_count": null,
   "id": "e755ca6c-2314-4f6c-be52-d323715569fe",
   "metadata": {},
   "outputs": [],
   "source": [
    "ais = ais.drop_duplicates(subset=['basename'])"
   ]
  },
  {
   "cell_type": "code",
   "execution_count": null,
   "id": "7852c2a1-7b94-40eb-bf38-0a60e50e37a3",
   "metadata": {},
   "outputs": [],
   "source": [
    "df = ais.merge(model, on='basename', suffixes=('_ais', '_model')).merge(slick, on='basename')\n",
    "df = df.rename(columns={'fname': 'fname_slick'})\n",
    "df = df[['basename', 'fname_ais', 'fname_model', 'fname_slick']]"
   ]
  },
  {
   "cell_type": "code",
   "execution_count": null,
   "id": "32c4018e-5f0a-4328-b68a-17ce1a6c039e",
   "metadata": {},
   "outputs": [],
   "source": [
    "df"
   ]
  },
  {
   "cell_type": "code",
   "execution_count": null,
   "id": "9ecb5e59-659b-4a0a-9a86-247c80cdd56c",
   "metadata": {},
   "outputs": [],
   "source": [
    "lol = df.merge(truth, on='basename')"
   ]
  },
  {
   "cell_type": "code",
   "execution_count": null,
   "id": "3ad8d3e8-4f83-4991-83ed-c427055a1cf2",
   "metadata": {},
   "outputs": [],
   "source": [
    "lol.fillna('DARK')"
   ]
  },
  {
   "cell_type": "markdown",
   "id": "7af0fb52-cba6-4224-aa40-445627232530",
   "metadata": {},
   "source": [
    "## Look at some data"
   ]
  },
  {
   "cell_type": "code",
   "execution_count": null,
   "id": "3f8a6b66-5c72-471a-8e98-0bacab03ab7a",
   "metadata": {},
   "outputs": [],
   "source": [
    "row = df.iloc[19]\n",
    "basename = row.basename\n",
    "\n",
    "gdf_ais = gpd.read_file(row.fname_ais)\n",
    "    \n",
    "gdf_slick = gpd.read_file(row.fname_slick)\n",
    "df_model = pd.read_csv(row.fname_model)"
   ]
  },
  {
   "cell_type": "code",
   "execution_count": null,
   "id": "31fdccf2-0d3d-4d49-982e-5fef977349d3",
   "metadata": {},
   "outputs": [],
   "source": [
    "gdf_slick.dissolve().centroid[0].coords[0][::-1]"
   ]
  },
  {
   "cell_type": "code",
   "execution_count": null,
   "id": "cdb37dfd-89a3-454b-8430-d637385aa87e",
   "metadata": {},
   "outputs": [],
   "source": [
    "gdf_ais_lines = list()\n",
    "for ssvid, group in gdf_ais.groupby('ssvid'):\n",
    "    if len(group) > 1:\n",
    "        ls = shapely.geometry.LineString(group.geometry.tolist())\n",
    "    else:\n",
    "        ls = group.iloc[0].geometry\n",
    "    \n",
    "    entry = dict()\n",
    "    entry['ssvid'] = ssvid\n",
    "    entry['geometry'] = ls\n",
    "    gdf_ais_lines.append(entry)\n",
    "\n",
    "gdf_ais_lines = gpd.GeoDataFrame(gdf_ais_lines, crs='EPSG:4326')"
   ]
  },
  {
   "cell_type": "code",
   "execution_count": null,
   "id": "dc827e03-cfc0-44dd-baca-54b4ffdb0fb7",
   "metadata": {},
   "outputs": [],
   "source": [
    "fig = plt.figure(dpi=300)\n",
    "ax = fig.add_subplot(111)\n",
    "plt.axis('off')\n",
    "plt.title(basename, fontsize=6)\n",
    "gdf_ais_lines.plot(column='ssvid', cmap='tab20c', ax=ax, linewidth=0.4, markersize=0.4)\n",
    "gdf_slick.buffer(0.001).plot(ax=ax, color='black')"
   ]
  },
  {
   "cell_type": "code",
   "execution_count": null,
   "id": "c595dd5e-8f91-4636-9fe2-cf81df0ea1ef",
   "metadata": {},
   "outputs": [],
   "source": [
    "s1_id = 'COPERNICUS/S1_GRD'\n",
    "img = ee.Image(f\"{s1_id}/{basename}\")"
   ]
  }
 ],
 "metadata": {
  "kernelspec": {
   "display_name": "mldev",
   "language": "python",
   "name": "mldev"
  },
  "language_info": {
   "codemirror_mode": {
    "name": "ipython",
    "version": 3
   },
   "file_extension": ".py",
   "mimetype": "text/x-python",
   "name": "python",
   "nbconvert_exporter": "python",
   "pygments_lexer": "ipython3",
   "version": "3.10.6"
  }
 },
 "nbformat": 4,
 "nbformat_minor": 5
}
