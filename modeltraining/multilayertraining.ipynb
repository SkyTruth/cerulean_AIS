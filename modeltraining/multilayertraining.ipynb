{
 "cells": [
  {
   "cell_type": "code",
   "execution_count": 1,
   "metadata": {},
   "outputs": [],
   "source": [
    "from typing import Union\n",
    "import os\n",
    "from pathlib import Path\n",
    "import os\n",
    "import sys\n",
    "from fastai2.vision.all import *\n",
    "from shutil import copyfile\n",
    "sys.path.append(str(Path(os.path.abspath('')).parent / \"ceruleanserver\"))\n",
    "from configs import aws_config\n",
    "from utils import s3\n"
   ]
  },
  {
   "cell_type": "code",
   "execution_count": 2,
   "metadata": {},
   "outputs": [],
   "source": [
    "datapath = Path(os.path.abspath('')) / \"data\"\n",
    "modelpath = \".\"\n"
   ]
  },
  {
   "cell_type": "code",
   "execution_count": 3,
   "metadata": {},
   "outputs": [],
   "source": [
    "\n",
    "\n",
    "\n",
    "\n",
    "if not datapath.exists():\n",
    "    os.mkdir(datapath)\n",
    "\n",
    "if not any(x for x in datapath.iterdir()):\n",
    "    bucket = s3.get_s3_bucket(aws_config.S3_BUCKET_NAME)\n",
    "    s3.download_prefix(\n",
    "        bucket, datapath, aws_config.S3_TRAINING_DATA_PATH, recursive=True\n",
    "    )\n"
   ]
  },
  {
   "cell_type": "code",
   "execution_count": 4,
   "metadata": {},
   "outputs": [
    {
     "name": "stderr",
     "output_type": "stream",
     "text": [
      "/home/ubuntu/anaconda3/envs/cerulean/lib/python3.7/site-packages/torch/nn/functional.py:2854: UserWarning: The default behavior for interpolate/upsample with float scale_factor will change in 1.6.0 to align with other frameworks/libraries, and use scale_factor directly, instead of relying on the computed output size. If you wish to keep the old behavior, please set recompute_scale_factor=True. See the documentation of nn.Upsample for details. \n",
      "  warnings.warn(\"The default behavior for interpolate/upsample with float scale_factor will change \"\n"
     ]
    },
    {
     "data": {
      "image/png": "[encoded data removed]",
      "text/plain": [
       "<Figure size 216x216 with 1 Axes>"
      ]
     },
     "metadata": {
      "needs_background": "light"
     },
     "output_type": "display_data"
    }
   ],
   "source": [
    "oil_chps = np.loadtxt(datapath / \"oil_chps.txt\", dtype=str)\n",
    "codes = np.loadtxt(datapath / \"codes.txt\", dtype=str)\n",
    "valid_names = np.loadtxt(datapath / \"valid_names.txt\", dtype=str)\n",
    "\n",
    "\n",
    "def get_chps(path):\n",
    "    return [path / \"chp\" / (chp + \".png\") for chp in oil_chps]\n",
    "\n",
    "\n",
    "def get_lbls(fn):\n",
    "    return fn.parent.parent / \"lbl\" / f\"{fn.name}\"\n",
    "\n",
    "\n",
    "def splitter_func(fn):\n",
    "    return (\n",
    "        fn.name.rsplit(\"_\", 1)[0] in valid_names\n",
    "    )  # XXX Check to make sure this should be returning True for Valid\n",
    "\n",
    "\n",
    "size = 128  # Progressive resizing could happen here\n",
    "\n",
    "augs = aug_transforms(flip_vert=True, max_warp=0.1, size=size)\n",
    "\n",
    "seg_db = DataBlock(\n",
    "    blocks=(ImageBlock, MaskBlock(codes=codes)),\n",
    "    get_items=get_chps,\n",
    "    splitter=FuncSplitter(splitter_func),\n",
    "    batch_tfms=augs,\n",
    "    get_y=get_lbls,\n",
    ")\n",
    "\n",
    "dls = SegmentationDataLoaders.from_dblock(\n",
    "    dblock=seg_db, source=datapath, path=datapath, bs=1\n",
    ")\n",
    "\n",
    "dls.show_batch(vmin=0, vmax=3)\n"
   ]
  },
  {
   "cell_type": "code",
   "execution_count": null,
   "metadata": {},
   "outputs": [
    {
     "data": {
      "text/html": [
       "\n",
       "    <div>\n",
       "        <style>\n",
       "            /* Turns off some styling */\n",
       "            progress {\n",
       "                /* gets rid of default border in Firefox and Opera. */\n",
       "                border: none;\n",
       "                /* Needs to be in here for Safari polyfill so background images work as expected. */\n",
       "                background-size: auto;\n",
       "            }\n",
       "            .progress-bar-interrupted, .progress-bar-interrupted::-webkit-progress-bar {\n",
       "                background: #F44336;\n",
       "            }\n",
       "        </style>\n",
       "      <progress value='0' class='' max='1' style='width:300px; height:20px; vertical-align: middle;'></progress>\n",
       "      0.00% [0/1 00:00<00:00]\n",
       "    </div>\n",
       "    \n",
       "<table border=\"1\" class=\"dataframe\">\n",
       "  <thead>\n",
       "    <tr style=\"text-align: left;\">\n",
       "      <th>epoch</th>\n",
       "      <th>train_loss</th>\n",
       "      <th>valid_loss</th>\n",
       "      <th>dice</th>\n",
       "      <th>time</th>\n",
       "    </tr>\n",
       "  </thead>\n",
       "  <tbody>\n",
       "  </tbody>\n",
       "</table><p>\n",
       "\n",
       "    <div>\n",
       "        <style>\n",
       "            /* Turns off some styling */\n",
       "            progress {\n",
       "                /* gets rid of default border in Firefox and Opera. */\n",
       "                border: none;\n",
       "                /* Needs to be in here for Safari polyfill so background images work as expected. */\n",
       "                background-size: auto;\n",
       "            }\n",
       "            .progress-bar-interrupted, .progress-bar-interrupted::-webkit-progress-bar {\n",
       "                background: #F44336;\n",
       "            }\n",
       "        </style>\n",
       "      <progress value='0' class='' max='369' style='width:300px; height:20px; vertical-align: middle;'></progress>\n",
       "      0.00% [0/369 00:00<00:00]\n",
       "    </div>\n",
       "    "
      ],
      "text/plain": [
       "<IPython.core.display.HTML object>"
      ]
     },
     "metadata": {},
     "output_type": "display_data"
    }
   ],
   "source": [
    "arch = 50\n",
    "archs = {18: resnet18, 34: resnet34, 50: resnet50}\n",
    "\n",
    "learn = unet_learner(dls, archs[arch], metrics=[Dice()]) #model_dir=modelpath\n",
    "\n",
    "# learn.load('/content/data/34_256_.683')\n",
    "\n",
    "# learn.lr_find()\n",
    "\n",
    "learn.fine_tune(8, 3e-3, cbs=SaveModelCallback(monitor=\"dice\"))\n",
    "\n",
    "#learn.load(\"model\")\n",
    "\n",
    "savename = f\"{arch}_{size}_{round(learn.validate()[1],3)}.pkl\"\n",
    "learn.export(modelpath / savename)\n",
    "\n",
    "learn.show_results(max_n=6, figsize=(20, 20), vmin=0, vmax=3)\n",
    "\n",
    "\n"
   ]
  },
  {
   "cell_type": "code",
   "execution_count": null,
   "metadata": {},
   "outputs": [],
   "source": []
  }
 ],
 "metadata": {
  "kernelspec": {
   "display_name": "Python (cerulean)",
   "language": "python",
   "name": "cerulean"
  },
  "language_info": {
   "codemirror_mode": {
    "name": "ipython",
    "version": 3
   },
   "file_extension": ".py",
   "mimetype": "text/x-python",
   "name": "python",
   "nbconvert_exporter": "python",
   "pygments_lexer": "ipython3",
   "version": "3.7.5"
  }
 },
 "nbformat": 4,
 "nbformat_minor": 2
}
